{
  "nbformat": 4,
  "nbformat_minor": 0,
  "metadata": {
    "colab": {
      "provenance": [],
      "authorship_tag": "ABX9TyNk77iZmcKr7NPPsCGcUGEw",
      "include_colab_link": true
    },
    "kernelspec": {
      "name": "python3",
      "display_name": "Python 3"
    },
    "language_info": {
      "name": "python"
    }
  },
  "cells": [
    {
      "cell_type": "markdown",
      "metadata": {
        "id": "view-in-github",
        "colab_type": "text"
      },
      "source": [
        "<a href=\"https://colab.research.google.com/github/atreGanesh15/Deep-Learning/blob/main/DL_ASS1_NN.ipynb\" target=\"_parent\"><img src=\"https://colab.research.google.com/assets/colab-badge.svg\" alt=\"Open In Colab\"/></a>"
      ]
    },
    {
      "cell_type": "markdown",
      "source": [
        "\n",
        "# Deep Learning Lab Assignment 1 - Neural Network From Scratch\n",
        "\n",
        "\n",
        "\n",
        "Name: Ganesh Atre\n",
        "\n",
        "PRN:202201040068\n",
        "\n",
        "Roll No: 29\n",
        "\n",
        "Batch: A2\n",
        "\n",

      ],
      "metadata": {
        "id": "lCGCHj3reAZs"
      }
    },
    {
      "cell_type": "markdown",
      "source": [
        "#Task 1\n",
        "Objective And Dataset Selection\n",
        "\n",
        "Dataset Link:https://www.kaggle.com/datasets/uciml/breast-cancer-wisconsin-data"
      ],
      "metadata": {
        "id": "a6Z-7WqAiMHR"
      }
    },
    {
      "cell_type": "markdown",
      "source": [
        "#Import Necessary libraries"
      ],
      "metadata": {
        "id": "ADiBCvCtihsE"
      }
    },
    {
      "cell_type": "code",
      "execution_count": 9,
      "metadata": {
        "id": "KCQB-OO0dzYK"
      },
      "outputs": [],
      "source": [
        "import numpy as np\n",
        "from sklearn.datasets import load_breast_cancer\n",
        "from sklearn.model_selection import train_test_split\n",
        "from sklearn.preprocessing import OneHotEncoder, StandardScaler\n",
        "import matplotlib.pyplot as plt"
      ]
    },
    {
      "cell_type": "code",
      "source": [
        "# Load Breast Cancer dataset\n",
        "data = load_breast_cancer()\n",
        "X = data.data  # Features\n",
        "y = data.target.reshape(-1, 1)  # Labels\n",
        "\n",
        "# Standardize features\n",
        "scaler = StandardScaler()\n",
        "X = scaler.fit_transform(X)\n",
        "\n",
        "# One-hot encode the labels\n",
        "encoder = OneHotEncoder(sparse_output=False)\n",
        "y_encoded = encoder.fit_transform(y)\n",
        "\n",
        "# Train-test split\n",
        "X_train, X_test, y_train, y_test = train_test_split(X, y_encoded, test_size=0.2, random_state=42)\n",
        "\n",
        "# Get the actual number of features from the training data\n",
        "input_size = X_train.shape[1]  # Update input_size based on actual data\n",
        "\n",
        "# Initialize weights and biases with random values\n",
        "hidden_size = 10\n",
        "output_size = 2\n",
        "\n",
        "np.random.seed(42)  # For reproducibility\n",
        "\n",
        "W1 = np.random.randn(input_size, hidden_size)\n",
        "b1 = np.zeros((1, hidden_size))\n",
        "W2 = np.random.randn(hidden_size, output_size)\n",
        "b2 = np.zeros((1, output_size))\n",
        "\n",
        "print(\"Neural network initialized!\")"
      ],
      "metadata": {
        "colab": {
          "base_uri": "https://localhost:8080/"
        },
        "id": "-faidz6UfscS",
        "outputId": "c29b07d2-8b62-4284-f80c-d68cedcee3bf"
      },
      "execution_count": 13,
      "outputs": [
        {
          "output_type": "stream",
          "name": "stdout",
          "text": [
            "Neural network initialized!\n"
          ]
        }
      ]
    },
    {
      "cell_type": "markdown",
      "source": [
        "# Neural Network Architecture\n",
        "# -----------------------------------\n",
        "\n",
        "\n",
        "Architecture:\n",
        "- Input Layer: 30 neurons (corresponding to 30 features)\n",
        "- Hidden Layer: 10 neurons (using Sigmoid activation function)\n",
        "- Output Layer: 2 neurons (using Softmax activation function for classification)"
      ],
      "metadata": {
        "id": "C-sEhJwtjDoM"
      }
    },
    {
      "cell_type": "markdown",
      "source": [
        "# Activation functions and their derivatives"
      ],
      "metadata": {
        "id": "3CffjyP_jNFG"
      }
    },
    {
      "cell_type": "code",
      "source": [
        "def sigmoid(x):\n",
        "    \"\"\"Sigmoid activation function.\"\"\"\n",
        "    return 1 / (1 + np.exp(-x))\n",
        "\n",
        "def sigmoid_derivative(x):\n",
        "    \"\"\"Derivative of sigmoid function for backpropagation.\"\"\"\n",
        "    return sigmoid(x) * (1 - sigmoid(x))\n",
        "\n",
        "def softmax(x):\n",
        "    \"\"\"Softmax activation function for output layer.\"\"\"\n",
        "    exp_x = np.exp(x - np.max(x, axis=1, keepdims=True))\n",
        "    return exp_x / np.sum(exp_x, axis=1, keepdims=True)\n",
        "\n",
        "def cross_entropy_loss(y_true, y_pred):\n",
        "    \"\"\"Cross-entropy loss function for classification.\"\"\"\n",
        "    return -np.mean(np.sum(y_true * np.log(y_pred + 1e-8), axis=1))\n",
        "\n",
        "# Initialize weights and biases with random values\n",
        "input_size = 30\n",
        "hidden_size = 10\n",
        "output_size = 2\n",
        "\n",
        "np.random.seed(42)  # For reproducibility\n",
        "\n",
        "W1 = np.random.randn(input_size, hidden_size)\n",
        "b1 = np.zeros((1, hidden_size))\n",
        "W2 = np.random.randn(hidden_size, output_size)\n",
        "b2 = np.zeros((1, output_size))\n",
        "\n",
        "print(\"Neural network initialized!\")"
      ],
      "metadata": {
        "colab": {
          "base_uri": "https://localhost:8080/"
        },
        "id": "_GsbLLl7f-2-",
        "outputId": "0e6505eb-e7e5-4338-ac40-641624971b92"
      },
      "execution_count": 10,
      "outputs": [
        {
          "output_type": "stream",
          "name": "stdout",
          "text": [
            "Neural network initialized!\n"
          ]
        }
      ]
    },
    {
      "cell_type": "markdown",
      "source": [
        "#Training Parameters"
      ],
      "metadata": {
        "id": "Wjp6RV-WjZVb"
      }
    },
    {
      "cell_type": "code",
      "source": [
        "learning_rate = 0.01\n",
        "epochs = 500\n",
        "losses = []"
      ],
      "metadata": {
        "id": "FUVjthkIgCmh"
      },
      "execution_count": 11,
      "outputs": []
    },
    {
      "cell_type": "markdown",
      "source": [
        "#Training Loop"
      ],
      "metadata": {
        "id": "cIV4XKzvjgXu"
      }
    },
    {
      "cell_type": "code",
      "source": [
        "print(\"Starting training...\")\n",
        "\n",
        "for epoch in range(epochs):\n",
        "    # Forward Pass\n",
        "    Z1 = np.dot(X_train, W1) + b1\n",
        "    A1 = sigmoid(Z1)\n",
        "    Z2 = np.dot(A1, W2) + b2\n",
        "    A2 = softmax(Z2)\n",
        "\n",
        "    # Compute Loss\n",
        "    loss = cross_entropy_loss(y_train, A2)\n",
        "    losses.append(loss)\n",
        "\n",
        "    # Backward Pass\n",
        "    dZ2 = A2 - y_train\n",
        "    dW2 = np.dot(A1.T, dZ2)\n",
        "    db2 = np.sum(dZ2, axis=0, keepdims=True)\n",
        "\n",
        "    dA1 = np.dot(dZ2, W2.T)\n",
        "    dZ1 = dA1 * sigmoid_derivative(Z1)\n",
        "    dW1 = np.dot(X_train.T, dZ1)\n",
        "    db1 = np.sum(dZ1, axis=0, keepdims=True)\n",
        "\n",
        "    # Update Weights and Biases\n",
        "    W1 -= learning_rate * dW1\n",
        "    b1 -= learning_rate * db1\n",
        "    W2 -= learning_rate * dW2\n",
        "    b2 -= learning_rate * db2\n",
        "\n",
        "    # Print loss every 50 epochs\n",
        "    if (epoch+1) % 50 == 0:\n",
        "        print(f\"Epoch {epoch+1}/{epochs}, Loss: {loss:.4f}\")\n",
        "\n",
        "print(\"Training completed!\")\n",
        "\n",
        "# Plot the Loss Curve\n",
        "plt.plot(losses)\n",
        "plt.title('Training Loss Curve')\n",
        "plt.xlabel('Epochs')\n",
        "plt.ylabel('Loss')\n",
        "plt.grid()\n",
        "plt.show()"
      ],
      "metadata": {
        "colab": {
          "base_uri": "https://localhost:8080/",
          "height": 690
        },
        "id": "QAysctEFglhh",
        "outputId": "dc562726-faa6-4144-830b-159ffabe0a78"
      },
      "execution_count": 14,
      "outputs": [
        {
          "output_type": "stream",
          "name": "stdout",
          "text": [
            "Starting training...\n",
            "Epoch 50/500, Loss: 0.0469\n",
            "Epoch 100/500, Loss: 0.0281\n",
            "Epoch 150/500, Loss: 0.0190\n",
            "Epoch 200/500, Loss: 0.0140\n",
            "Epoch 250/500, Loss: 0.0108\n",
            "Epoch 300/500, Loss: 0.0086\n",
            "Epoch 350/500, Loss: 0.0071\n",
            "Epoch 400/500, Loss: 0.0060\n",
            "Epoch 450/500, Loss: 0.0052\n",
            "Epoch 500/500, Loss: 0.0045\n",
            "Training completed!\n"
          ]
        },
        {
          "output_type": "display_data",
          "data": {
            "text/plain": [
              "<Figure size 640x480 with 1 Axes>"
            ],
            "image/png": "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\n"
          },
          "metadata": {}
        }
      ]
    },
    {
      "cell_type": "markdown",
      "source": [
        "#Evaluation on Test Data"
      ],
      "metadata": {
        "id": "nd-Drii7kHsx"
      }
    },
    {
      "cell_type": "code",
      "source": [
        "print(\"Evaluating model on test data...\")\n",
        "\n",
        "# Forward pass on test data\n",
        "Z1_test = np.dot(X_test, W1) + b1\n",
        "A1_test = sigmoid(Z1_test)\n",
        "Z2_test = np.dot(A1_test, W2) + b2\n",
        "A2_test = softmax(Z2_test)\n",
        "\n",
        "# Predictions\n",
        "predictions = np.argmax(A2_test, axis=1)\n",
        "true_labels = np.argmax(y_test, axis=1)\n",
        "\n",
        "# Accuracy\n",
        "accuracy = np.mean(predictions == true_labels)\n",
        "print(f\"Test Accuracy: {accuracy * 100:.2f}%\")"
      ],
      "metadata": {
        "colab": {
          "base_uri": "https://localhost:8080/"
        },
        "id": "tP_Fn9MxgLp-",
        "outputId": "8a2c23a0-fa05-4464-8e15-ebbbf1958524"
      },
      "execution_count": 15,
      "outputs": [
        {
          "output_type": "stream",
          "name": "stdout",
          "text": [
            "Evaluating model on test data...\n",
            "Test Accuracy: 96.49%\n"
          ]
        }
      ]
    },
    {
      "cell_type": "markdown",
      "source": [
        "I Ganesh Atre, confirm that the work submitted in this assignment is my own and has been completed following academic integrity guidelines.\n",
        "The code is uploaded on my GitHub repository account, and the repository link is provided below:\n",
        "\n",
        "GitHub Repository Link:\n",
        "\n",
        "Signature: Ganesh Maroti Atre"
      ],
      "metadata": {
        "id": "1QUjrCaMgP6I"
      }
    }
  ]
}
